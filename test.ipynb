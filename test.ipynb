{
 "cells": [
  {
   "cell_type": "code",
   "execution_count": 1,
   "metadata": {},
   "outputs": [],
   "source": [
    "import torch.nn as nn\n",
    "import torch\n",
    "from models import RLNN\n",
    "\n",
    "class Actor(RLNN):\n",
    "\n",
    "    def __init__(self, state_dim, action_dim, max_action, args):\n",
    "        super(Actor, self).__init__(state_dim, action_dim, max_action)\n",
    "\n",
    "        self.l1 = nn.Linear(state_dim, 400)\n",
    "        self.l2 = nn.Linear(400, 300)\n",
    "        self.l3 = nn.Linear(300, action_dim)\n",
    "\n",
    "        if args.layer_norm:\n",
    "            self.n1 = nn.LayerNorm(400)\n",
    "            self.n2 = nn.LayerNorm(300)\n",
    "        self.layer_norm = args.layer_norm\n",
    "\n",
    "        self.optimizer = torch.optim.Adam(self.parameters(), lr=args.actor_lr)\n",
    "        self.tau = args.tau\n",
    "        self.discount = args.discount\n",
    "        self.state_dim = state_dim\n",
    "        self.action_dim = action_dim\n",
    "        self.max_action = max_action\n",
    "\n",
    "    def forward(self, x):\n",
    "\n",
    "        if not self.layer_norm:\n",
    "            x = torch.tanh(self.l1(x))\n",
    "            x = torch.tanh(self.l2(x))\n",
    "            x = self.max_action * torch.tanh(self.l3(x))\n",
    "\n",
    "        else:\n",
    "            x = torch.tanh(self.n1(self.l1(x)))\n",
    "            x = torch.tanh(self.n2(self.l2(x)))\n",
    "            x = self.max_action * torch.tanh(self.l3(x))\n",
    "\n",
    "        return x\n",
    "\n",
    "    def update(self, memory, batch_size, critic, actor_t):\n",
    "\n",
    "        # Sample replay buffer\n",
    "        states, _, _, _, _ = memory.sample(batch_size)\n",
    "\n",
    "        # Compute actor loss\n",
    "        actor_loss = -critic(states, self(states)).mean()\n",
    "\n",
    "        # Optimize the actor\n",
    "        self.optimizer.zero_grad()\n",
    "        actor_loss.backward()\n",
    "        self.optimizer.step()\n",
    "\n",
    "        # Update the frozen target models\n",
    "        for param, target_param in zip(self.parameters(), actor_t.parameters()):\n",
    "            target_param.data.copy_(\n",
    "                self.tau * param.data + (1 - self.tau) * target_param.data)"
   ]
  },
  {
   "cell_type": "code",
   "execution_count": 6,
   "metadata": {},
   "outputs": [],
   "source": [
    "class Params:\n",
    "    def __init__(self, **kwargs):\n",
    "        for key, value in kwargs.items():\n",
    "            setattr(self, key, value)\n",
    "\n",
    "    def __repr__(self):\n",
    "        # Optional: Customize how the object is printed\n",
    "        return f\"{self.__class__.__name__}({self.__dict__})\"\n",
    "\n",
    "args = Params(actor_lr=0.001, tau=0.005, discount=0.99, layer_norm=True)\n",
    "actor = Actor(10, 10, 111, args)    "
   ]
  },
  {
   "cell_type": "code",
   "execution_count": 8,
   "metadata": {},
   "outputs": [
    {
     "data": {
      "text/plain": [
       "array([0.25291276, 0.06006938, 0.13973065, ..., 0.        , 0.        ,\n",
       "       0.        ], dtype=float32)"
      ]
     },
     "execution_count": 8,
     "metadata": {},
     "output_type": "execute_result"
    }
   ],
   "source": [
    "actor.get_params()"
   ]
  },
  {
   "cell_type": "code",
   "execution_count": null,
   "metadata": {},
   "outputs": [],
   "source": [
    "a"
   ]
  }
 ],
 "metadata": {
  "kernelspec": {
   "display_name": "master",
   "language": "python",
   "name": "python3"
  },
  "language_info": {
   "codemirror_mode": {
    "name": "ipython",
    "version": 3
   },
   "file_extension": ".py",
   "mimetype": "text/x-python",
   "name": "python",
   "nbconvert_exporter": "python",
   "pygments_lexer": "ipython3",
   "version": "3.11.8"
  }
 },
 "nbformat": 4,
 "nbformat_minor": 2
}
